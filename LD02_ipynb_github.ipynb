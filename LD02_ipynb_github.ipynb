{
  "nbformat": 4,
  "nbformat_minor": 0,
  "metadata": {
    "colab": {
      "provenance": [],
      "include_colab_link": true
    },
    "kernelspec": {
      "name": "python3",
      "display_name": "Python 3"
    },
    "language_info": {
      "name": "python"
    }
  },
  "cells": [
    {
      "cell_type": "markdown",
      "metadata": {
        "id": "view-in-github",
        "colab_type": "text"
      },
      "source": [
        "<a href=\"https://colab.research.google.com/github/Araslt/spark/blob/main/LD02_ipynb_github.ipynb\" target=\"_parent\"><img src=\"https://colab.research.google.com/assets/colab-badge.svg\" alt=\"Open In Colab\"/></a>"
      ]
    },
    {
      "cell_type": "code",
      "execution_count": 1,
      "metadata": {
        "id": "bqWakliPv4KT",
        "colab": {
          "base_uri": "https://localhost:8080/"
        },
        "outputId": "db5fe9b4-48ee-4ea7-ad1f-91f00d86b7ff"
      },
      "outputs": [
        {
          "output_type": "stream",
          "name": "stdout",
          "text": [
            "Collecting pyspark\n",
            "  Downloading pyspark-3.4.1.tar.gz (310.8 MB)\n",
            "\u001b[2K     \u001b[90m━━━━━━━━━━━━━━━━━━━━━━━━━━━━━━━━━━━━━━━\u001b[0m \u001b[32m310.8/310.8 MB\u001b[0m \u001b[31m3.3 MB/s\u001b[0m eta \u001b[36m0:00:00\u001b[0m\n",
            "\u001b[?25h  Preparing metadata (setup.py) ... \u001b[?25l\u001b[?25hdone\n",
            "Requirement already satisfied: py4j==0.10.9.7 in /usr/local/lib/python3.10/dist-packages (from pyspark) (0.10.9.7)\n",
            "Building wheels for collected packages: pyspark\n",
            "  Building wheel for pyspark (setup.py) ... \u001b[?25l\u001b[?25hdone\n",
            "  Created wheel for pyspark: filename=pyspark-3.4.1-py2.py3-none-any.whl size=311285387 sha256=e0d966b0169ae91e716565ca947deed3e34b4b5cfe718773001e2be805894f3d\n",
            "  Stored in directory: /root/.cache/pip/wheels/0d/77/a3/ff2f74cc9ab41f8f594dabf0579c2a7c6de920d584206e0834\n",
            "Successfully built pyspark\n",
            "Installing collected packages: pyspark\n",
            "Successfully installed pyspark-3.4.1\n"
          ]
        }
      ],
      "source": [
        "!pip install pyspark"
      ]
    },
    {
      "cell_type": "code",
      "source": [
        "# SparkContext yra pagrindinė klasė, kuri valdo Spark aplikaciją ir nustato ką ji turėtų daryti.\n",
        "# SparkConf yra klasė, kuri leidžia konfigūruoti Spark aplikacijos nustatymus.\n",
        "# 6ios klasės importuojamos, kad būtų galima sukurti SparkContext objektą, kuris naudojamas valdyti Spark aplikaciją ir SparkConf objektą\n",
        "from pyspark import SparkContext, SparkConf\n",
        "# sc.stop()  # Stop the current SparkContext object\n",
        "conf = SparkConf().setAppName('MyApp')\n",
        "sc = SparkContext(conf=conf)"
      ],
      "metadata": {
        "id": "XYv9XGB01xJF"
      },
      "execution_count": 2,
      "outputs": []
    },
    {
      "cell_type": "code",
      "source": [
        "from pyspark.sql import SparkSession\n",
        "\n",
        "spark = SparkSession \\\n",
        "    .builder \\\n",
        "    .appName(\"Python Spark SQL basic example\") \\\n",
        "    .config(\"spark.some.config.option\", \"some-value\") \\\n",
        "    .getOrCreate()"
      ],
      "metadata": {
        "id": "wx64UVwf1qIp"
      },
      "execution_count": 3,
      "outputs": []
    },
    {
      "cell_type": "markdown",
      "source": [
        "################## **LD02** #############################\n",
        "3. Sudaryta lentele, kurioje matosi kiek pristatyta siuntu (\"siuntu skaicius\")\n",
        "bei aptarnauta klientu (\"Sustojimo klientu skaicius\") geografinese\n",
        "zonose (\"geografine zona\") skirtingomis savaites dienomis (\"sustojimo\n",
        "savaites diena\").\n",
        "\n"
      ],
      "metadata": {
        "id": "6qhNAa7PUh0b"
      }
    },
    {
      "cell_type": "code",
      "source": [
        "# nuskaitomas  failo turinys su Spark tekstinių failų funkcija\n",
        "# sc.textFile() ir jis išsaugomas kintamajame (RDD objekte) A.\n",
        "A = sc.textFile(\"duom_cut.txt\")\n",
        "\n",
        "# funkcija gauna eilutę iš tekstinio failo kaip argumentą ir\n",
        "# grąžina sąrašą (listą) iš eilučių, kurių kiekviena eilutė yra tekstas tarp }}{{.\n",
        "# gaunamas maždaug toks outputas: ['a}{b}{c}{d', 'e'], jei buvo toks \"{{a}{b}{c}{d}}{{e}}\"\n",
        "def myfmap(line):\n",
        "    line = line.strip()\n",
        "    line = line[2:len(line)-2]\n",
        "    return line.split('}}{{')"
      ],
      "metadata": {
        "id": "izQe5hY4c1Re"
      },
      "execution_count": 4,
      "outputs": []
    },
    {
      "cell_type": "code",
      "source": [
        "# funkcija gauna atskiras eilutes, kurios yra gaunamos iš ankstesnės funkcijos,\n",
        "# kaip argumentą ir iš jų išskiria klientų skaičių, savaitės dieną,\n",
        "# geografinę zoną ir siuntų skaičių. Tuomet funkcija susikuria du tuple:\n",
        "# pirmasis yra unikalus raktas, susidedantis iš zonos ir savaitės dienos,\n",
        "# o antrasis yra tuple su siuntų skaičiumi ir klientų skaičiumi.\n",
        "# Funkcija grąžina None, jei nebuvo rasti kliento, savaitės dienos,\n",
        "# zonos ar siuntos duomenys.\n",
        "# Funkcijos mymap() argumentas \"stopas\" yra funkcijos myfmap() gražinama reikšmė.\n",
        "def mymap(stopas):\n",
        "    klientai = 0\n",
        "    diena = 0\n",
        "    zona = None\n",
        "    siunta = 0\n",
        "\n",
        "    parstrings = stopas.split('}{')\n",
        "    for parstring in parstrings:\n",
        "        (vardas, reiksme) = parstring.split('=')\n",
        "        if(reiksme != ''):\n",
        "            if(vardas == 'Sustojimo klientu skaicius'):\n",
        "                klientai=int(reiksme)\n",
        "            if(vardas == 'sustojimo savaites diena'):\n",
        "                diena=int(reiksme)\n",
        "            if(vardas == 'siuntu skaicius'):\n",
        "                siunta=int(reiksme)\n",
        "            if(vardas == 'geografine zona'):\n",
        "                zona=reiksme\n",
        "\n",
        "    if(klientai != 0 and diena is not None and zona is not None and siunta != 0):\n",
        "        return ((zona, diena), (siunta, klientai))\n",
        "    else:\n",
        "        return None\n"
      ],
      "metadata": {
        "id": "KNLUfS-Tc66O"
      },
      "execution_count": 5,
      "outputs": []
    },
    {
      "cell_type": "code",
      "source": [
        "# flatMap(myfmap) funkcija naudoja anksčiau apibrėžtą myfmap funkciją suskaidyti\n",
        "# duomenis pagal }}{{ simbolius.\n",
        "# map(mymap) funkcija naudoja anksčiau apibrėžtą mymap funkciją,\n",
        "# kad apdorotų kiekvieną iš gautų eilučių.\n",
        "# filter(lambda x: x is not None) funkcija atmetė tuos duomenis,\n",
        "# kuriuose nebuvo rasti klientų, savaitės dienos, zonos ar siuntų duomenys.\n",
        "# reduceByKey(lambda x,y: (x[0]+y[0], x[1]+y[1])) funkcija sumažina duomenų kiekį,\n",
        "# apjungdama tokius tuple, kurių raktai sutampa ir išsaugo tų tuple reikšmes,\n",
        "# sumuojant jų siuntų ir klientų skaičių.\n",
        "ATS = A.flatMap(myfmap)\\\n",
        "    .map(mymap)\\\n",
        "    .filter(lambda x: x is not None)\\\n",
        "    .reduceByKey(lambda x,y: (x[0]+y[0], x[1]+y[1]))\n",
        "\n",
        "\n",
        "# Išvesti rezultatus\n",
        "print(ATS.take(5))"
      ],
      "metadata": {
        "colab": {
          "base_uri": "https://localhost:8080/"
        },
        "id": "xvzKh2b7c_qG",
        "outputId": "2358d14a-2678-4776-db16-597950cd6307"
      },
      "execution_count": 6,
      "outputs": [
        {
          "output_type": "stream",
          "name": "stdout",
          "text": [
            "[(('Z1', 3), (618, 158)), (('Z1', 5), (232, 85)), (('Z3', 5), (9, 4)), (('Z1', 1), (267, 81)), (('Z3', 1), (8, 2))]\n"
          ]
        }
      ]
    },
    {
      "cell_type": "code",
      "source": [
        "import pandas as pd\n",
        "# sugeneruoti lentelės duomenis iš Spark rezultatų\n",
        "table_data = []\n",
        "for ((zona, diena), (siunta, klientai)) in ATS.collect():\n",
        "    row = {'zona': zona, 'savaites diena': diena, 'siuntu sk.': siunta, 'Sustojimo klientu sk.': klientai}\n",
        "    table_data.append(row)\n",
        "\n",
        "# sukurti pandas lentelę su gautais duomenimis\n",
        "df = pd.DataFrame(table_data)\n",
        "print(df)\n",
        "\n",
        "\n"
      ],
      "metadata": {
        "colab": {
          "base_uri": "https://localhost:8080/"
        },
        "outputId": "1fc30bcd-d06e-4b8d-dc37-6e61e3634427",
        "id": "34rVytbyUaT4"
      },
      "execution_count": 7,
      "outputs": [
        {
          "output_type": "stream",
          "name": "stdout",
          "text": [
            "   zona  savaites diena  siuntu sk.  Sustojimo klientu sk.\n",
            "0    Z1               3         618                    158\n",
            "1    Z1               5         232                     85\n",
            "2    Z3               5           9                      4\n",
            "3    Z1               1         267                     81\n",
            "4    Z3               1           8                      2\n",
            "5    Z3               3          40                     16\n",
            "6    Z1               2         607                    137\n",
            "7    Z1               0          92                     18\n",
            "8    Z1               4         368                     91\n",
            "9    Z3               0           4                      3\n",
            "10   Z3               2          17                      8\n",
            "11   Z3               4          10                      6\n"
          ]
        }
      ]
    },
    {
      "cell_type": "code",
      "source": [
        "# substitute\n",
        "def mymap(stopas):\n",
        "    mapping = {}\n",
        "    parstrings = stopas.split('}{')\n",
        "    for parstring in parstrings:\n",
        "        (vardas, reiksme) = parstring.split('=')\n",
        "        if reiksme:\n",
        "            mapping[vardas] = reiksme\n",
        "    if all(k in mapping for k in ['Sustojimo klientu skaicius', 'sustojimo savaites diena', 'siuntu skaicius', 'geografine zona']):\n",
        "        return ((mapping['geografine zona'], int(mapping['sustojimo savaites diena'])), (int(mapping['siuntu skaicius']), int(mapping['Sustojimo klientu skaicius'])))\n",
        "    else:\n",
        "        return None\n",
        "# print(mymap('geografine zona=1}{sustojimo savaites diena=2}{siuntu skaicius=3}{Sustojimo klientu skaicius=4'))\n"
      ],
      "metadata": {
        "id": "EGicmlnl4He4"
      },
      "execution_count": 8,
      "outputs": []
    },
    {
      "cell_type": "markdown",
      "source": [
        "\n",
        "################## **END LD02** #############################"
      ],
      "metadata": {
        "id": "Jn_98mI3U2cQ"
      }
    }
  ]
}